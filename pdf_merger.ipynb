{
 "cells": [
  {
   "cell_type": "code",
   "execution_count": 5,
   "metadata": {},
   "outputs": [],
   "source": [
    "import os\n",
    "from PyPDF2 import PdfMerger"
   ]
  },
  {
   "cell_type": "code",
   "execution_count": 17,
   "metadata": {},
   "outputs": [
    {
     "name": "stdout",
     "output_type": "stream",
     "text": [
      "Merged PDF saved as /Users/sianmcallister/combineddoc.pdf\n"
     ]
    }
   ],
   "source": [
    "pdf_files = [\"/Users/sianmcallister/file1.pdf\", \"/Users/sianmcallister/file2.pdf\"]\n",
    "merger = PdfMerger()\n",
    "\n",
    "for file in pdf_files:\n",
    "    merger.append(file)\n",
    "\n",
    "output_path = \"/Users/sianmcallister/combineddoc.pdf\"\n",
    "merger.write(output_path)\n",
    "merger.close()\n",
    "\n",
    "print(f\"Merged PDF saved as {output_path}\")"
   ]
  },
  {
   "cell_type": "code",
   "execution_count": null,
   "metadata": {},
   "outputs": [],
   "source": []
  }
 ],
 "metadata": {
  "kernelspec": {
   "display_name": "Python 3",
   "language": "python",
   "name": "python3"
  },
  "language_info": {
   "codemirror_mode": {
    "name": "ipython",
    "version": 3
   },
   "file_extension": ".py",
   "mimetype": "text/x-python",
   "name": "python",
   "nbconvert_exporter": "python",
   "pygments_lexer": "ipython3",
   "version": "3.11.4"
  }
 },
 "nbformat": 4,
 "nbformat_minor": 2
}
